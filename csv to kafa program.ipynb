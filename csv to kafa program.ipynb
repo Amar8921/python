{
 "cells": [
  {
   "cell_type": "code",
   "execution_count": 1,
   "id": "ba54e565",
   "metadata": {},
   "outputs": [
    {
     "name": "stdout",
     "output_type": "stream",
     "text": [
      "Defaulting to user installation because normal site-packages is not writeable\n",
      "Collecting confluent_kafka\n",
      "  Obtaining dependency information for confluent_kafka from https://files.pythonhosted.org/packages/fc/6c/f064ee299604127ca83fdb31bd31c8864ea420fca012405837500f6d4420/confluent_kafka-2.3.0-cp311-cp311-win_amd64.whl.metadata\n",
      "  Downloading confluent_kafka-2.3.0-cp311-cp311-win_amd64.whl.metadata (2.4 kB)\n",
      "Downloading confluent_kafka-2.3.0-cp311-cp311-win_amd64.whl (3.4 MB)\n",
      "   ---------------------------------------- 0.0/3.4 MB ? eta -:--:--\n",
      "   ---------------------------------------- 0.0/3.4 MB ? eta -:--:--\n",
      "   - -------------------------------------- 0.1/3.4 MB 1.1 MB/s eta 0:00:04\n",
      "   --- ------------------------------------ 0.3/3.4 MB 2.3 MB/s eta 0:00:02\n",
      "   ------------ --------------------------- 1.1/3.4 MB 6.3 MB/s eta 0:00:01\n",
      "   ------------------------------ --------- 2.6/3.4 MB 11.8 MB/s eta 0:00:01\n",
      "   ---------------------------------------- 3.4/3.4 MB 13.7 MB/s eta 0:00:00\n",
      "Installing collected packages: confluent_kafka\n",
      "Successfully installed confluent_kafka-2.3.0\n"
     ]
    }
   ],
   "source": [
    "!pip install confluent_kafka"
   ]
  },
  {
   "cell_type": "code",
   "execution_count": 4,
   "id": "0a89e023",
   "metadata": {},
   "outputs": [
    {
     "data": {
      "text/plain": [
       "0"
      ]
     },
     "execution_count": 4,
     "metadata": {},
     "output_type": "execute_result"
    }
   ],
   "source": [
    "from confluent_kafka import Producer\n",
    "import csv\n",
    "import json\n",
    "\n",
    "bootstrap_servers = 'localhost:9092'\n",
    "topic = 'test'\n",
    "\n",
    "producer_config = {\n",
    "    'bootstrap.servers': bootstrap_servers,\n",
    "}\n",
    "\n",
    "producer = Producer(producer_config)\n",
    "\n",
    "with open('calories.csv', 'r') as csvfile:\n",
    "    csv_reader = csv.DictReader(csvfile)\n",
    "    for row in csv_reader:\n",
    "        serialized_data = json.dumps(row)\n",
    "        producer.produce(topic, key=None, value=serialized_data.encode('utf-8'))\n",
    "        producer.flush()\n",
    "\n",
    "producer.flush()\n"
   ]
  }
 ],
 "metadata": {
  "kernelspec": {
   "display_name": "Python 3 (ipykernel)",
   "language": "python",
   "name": "python3"
  },
  "language_info": {
   "codemirror_mode": {
    "name": "ipython",
    "version": 3
   },
   "file_extension": ".py",
   "mimetype": "text/x-python",
   "name": "python",
   "nbconvert_exporter": "python",
   "pygments_lexer": "ipython3",
   "version": "3.11.5"
  }
 },
 "nbformat": 4,
 "nbformat_minor": 5
}
